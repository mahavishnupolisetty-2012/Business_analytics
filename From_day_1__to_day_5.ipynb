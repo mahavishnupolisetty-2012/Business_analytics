{
  "cells": [
    {
      "cell_type": "code",
      "execution_count": 30,
      "id": "f8930f9b",
      "metadata": {
        "colab": {
          "base_uri": "https://localhost:8080/"
        },
        "id": "f8930f9b",
        "outputId": "0c28cd42-4e69-4a04-bb1a-9563f220e5dd"
      },
      "outputs": [
        {
          "output_type": "stream",
          "name": "stdout",
          "text": [
            "Hello world\n"
          ]
        }
      ],
      "source": [
        "print(\"Hello world\") # python is case sensitive.\n",
        "                    # p-should be small letter. and we can use single or double inverted commas, whatever we have to write in the text format means it is string data type we have to keep it in inverted commas and for numbers no need."
      ]
    },
    {
      "cell_type": "code",
      "execution_count": 31,
      "id": "08024be0",
      "metadata": {
        "colab": {
          "base_uri": "https://localhost:8080/"
        },
        "id": "08024be0",
        "outputId": "f11c6229-d450-44be-fef7-5f9c6eadd2da"
      },
      "outputs": [
        {
          "output_type": "stream",
          "name": "stdout",
          "text": [
            "10000000\n"
          ]
        }
      ],
      "source": [
        "print(10000000) # for numaricals no need of inverted commas.\n",
        "                # shift + enter = run."
      ]
    },
    {
      "cell_type": "code",
      "execution_count": 32,
      "id": "2bb5ea12",
      "metadata": {
        "colab": {
          "base_uri": "https://localhost:8080/"
        },
        "id": "2bb5ea12",
        "outputId": "d655549e-56f7-4ce1-e132-c027749e4ffa"
      },
      "outputs": [
        {
          "output_type": "stream",
          "name": "stdout",
          "text": [
            "hello buddoda\n"
          ]
        }
      ],
      "source": [
        "print(\"hello buddoda\")"
      ]
    },
    {
      "cell_type": "code",
      "execution_count": 33,
      "id": "32a33c42",
      "metadata": {
        "id": "32a33c42"
      },
      "outputs": [],
      "source": [
        "# type 'a' in the brackets beside the IN we can include a cell above and type 'b' for inserting cell bellow and \n",
        "# type 'dd' / 'x' for deleting the entire row/cell."
      ]
    },
    {
      "cell_type": "markdown",
      "id": "1bb34e11",
      "metadata": {
        "id": "1bb34e11"
      },
      "source": [
        "# jyfkukugffvbbhuj"
      ]
    },
    {
      "cell_type": "code",
      "execution_count": 34,
      "id": "53303e1c",
      "metadata": {
        "id": "53303e1c"
      },
      "outputs": [],
      "source": [
        "# for getting heding, type the word with hashtag and type the letter 'm' in the brackets then it will converted to blue then shift + enter to run then we can get hedding.\n",
        "# increasing the hashtag's font will decrease the size and after 6th hashtag font will change and in the out put we can see hash tag too. so only 6 hasthags are allowd."
      ]
    },
    {
      "cell_type": "markdown",
      "id": "8a61a9de",
      "metadata": {
        "id": "8a61a9de"
      },
      "source": []
    },
    {
      "cell_type": "markdown",
      "id": "9beaa95f",
      "metadata": {
        "id": "9beaa95f"
      },
      "source": [
        "# Data Types"
      ]
    },
    {
      "cell_type": "code",
      "execution_count": 35,
      "id": "cd5bccee",
      "metadata": {
        "colab": {
          "base_uri": "https://localhost:8080/"
        },
        "id": "cd5bccee",
        "outputId": "f14a9536-cecb-47be-9ef0-8dbc47751dce"
      },
      "outputs": [
        {
          "output_type": "execute_result",
          "data": {
            "text/plain": [
              "int"
            ]
          },
          "metadata": {},
          "execution_count": 35
        }
      ],
      "source": [
        "x=10\n",
        "type(x) # int = integer with out decemals."
      ]
    },
    {
      "cell_type": "code",
      "execution_count": 36,
      "id": "66a60024",
      "metadata": {
        "colab": {
          "base_uri": "https://localhost:8080/"
        },
        "id": "66a60024",
        "outputId": "e059a904-5b73-4e6c-cb2a-ae03964d7ef6"
      },
      "outputs": [
        {
          "output_type": "execute_result",
          "data": {
            "text/plain": [
              "float"
            ]
          },
          "metadata": {},
          "execution_count": 36
        }
      ],
      "source": [
        "y=10.23\n",
        "type(y) #float = decimal number."
      ]
    },
    {
      "cell_type": "code",
      "execution_count": 37,
      "id": "625dc50d",
      "metadata": {
        "colab": {
          "base_uri": "https://localhost:8080/"
        },
        "id": "625dc50d",
        "outputId": "2e98ec75-b496-4c20-fe71-399f6e9086b5"
      },
      "outputs": [
        {
          "output_type": "execute_result",
          "data": {
            "text/plain": [
              "str"
            ]
          },
          "metadata": {},
          "execution_count": 37
        }
      ],
      "source": [
        "course = \"data analytics\"\n",
        "type(course) #str = string."
      ]
    },
    {
      "cell_type": "code",
      "execution_count": 38,
      "id": "21a50de5",
      "metadata": {
        "colab": {
          "base_uri": "https://localhost:8080/"
        },
        "id": "21a50de5",
        "outputId": "99041c2b-e328-4608-96fe-12352dd59884"
      },
      "outputs": [
        {
          "output_type": "execute_result",
          "data": {
            "text/plain": [
              "bool"
            ]
          },
          "metadata": {},
          "execution_count": 38
        }
      ],
      "source": [
        "y=True\n",
        "type(y) #bool = boolien"
      ]
    },
    {
      "cell_type": "code",
      "execution_count": 39,
      "id": "cc85f4e4",
      "metadata": {
        "colab": {
          "base_uri": "https://localhost:8080/"
        },
        "id": "cc85f4e4",
        "outputId": "4357b4b1-22bc-4756-b67e-c67cf6085a54"
      },
      "outputs": [
        {
          "output_type": "execute_result",
          "data": {
            "text/plain": [
              "str"
            ]
          },
          "metadata": {},
          "execution_count": 39
        }
      ],
      "source": [
        "z=\"true\"\n",
        "type(z) # we put word ture in inverted commas so its string."
      ]
    },
    {
      "cell_type": "code",
      "execution_count": 40,
      "id": "aeaf8936",
      "metadata": {
        "colab": {
          "base_uri": "https://localhost:8080/"
        },
        "id": "aeaf8936",
        "outputId": "bd725e48-d9c7-45f0-cbc7-d6586e6c2693"
      },
      "outputs": [
        {
          "output_type": "execute_result",
          "data": {
            "text/plain": [
              "complex"
            ]
          },
          "metadata": {},
          "execution_count": 40
        }
      ],
      "source": [
        "m=2-3j\n",
        "type(m) #we have to use j for representing complex number."
      ]
    },
    {
      "cell_type": "markdown",
      "id": "bb1cc955",
      "metadata": {
        "id": "bb1cc955"
      },
      "source": [
        " ### rules for naming the varables  "
      ]
    },
    {
      "cell_type": "code",
      "execution_count": 41,
      "id": "a2675130",
      "metadata": {
        "colab": {
          "base_uri": "https://localhost:8080/"
        },
        "id": "a2675130",
        "outputId": "621e5541-40bb-4431-ef44-5937546b4ca2"
      },
      "outputs": [
        {
          "output_type": "execute_result",
          "data": {
            "text/plain": [
              "('varshith', 'mahindra', 'chaithu')"
            ]
          },
          "metadata": {},
          "execution_count": 41
        }
      ],
      "source": [
        "Sample_names = \"varshith\" , \"mahindra\" , \"chaithu\"\n",
        "Sample_names"
      ]
    },
    {
      "cell_type": "code",
      "execution_count": 42,
      "id": "47905143",
      "metadata": {
        "id": "47905143"
      },
      "outputs": [],
      "source": [
        "### variable name can start with A-Z and a-z , underscore.\n",
        "### only allowed special character is _ .\n",
        "### variable name canot start with a number.\n",
        "### varibale name should not have space.\n",
        "### case sensitive."
      ]
    },
    {
      "cell_type": "markdown",
      "id": "e7206ec1",
      "metadata": {
        "id": "e7206ec1"
      },
      "source": [
        "## Data Structures"
      ]
    },
    {
      "cell_type": "code",
      "execution_count": 43,
      "id": "1a59d373",
      "metadata": {
        "colab": {
          "base_uri": "https://localhost:8080/"
        },
        "id": "1a59d373",
        "outputId": "6c64a305-682c-41b9-8aff-b7eda1f731d6"
      },
      "outputs": [
        {
          "output_type": "execute_result",
          "data": {
            "text/plain": [
              "tuple"
            ]
          },
          "metadata": {},
          "execution_count": 43
        }
      ],
      "source": [
        "x = (\"apple\" , \"banana\" , \"orange\")\n",
        "type(x) #curved brackets it's tuple type."
      ]
    },
    {
      "cell_type": "code",
      "execution_count": 44,
      "id": "58227606",
      "metadata": {
        "colab": {
          "base_uri": "https://localhost:8080/"
        },
        "id": "58227606",
        "outputId": "6beda227-16ac-4430-8690-a45a9acf3371"
      },
      "outputs": [
        {
          "output_type": "execute_result",
          "data": {
            "text/plain": [
              "list"
            ]
          },
          "metadata": {},
          "execution_count": 44
        }
      ],
      "source": [
        "x = [\"apple\" , \"banana\" , \"orange\"]\n",
        "type(x) #square brackets it's list type."
      ]
    },
    {
      "cell_type": "code",
      "execution_count": 45,
      "id": "a4b1d249",
      "metadata": {
        "colab": {
          "base_uri": "https://localhost:8080/"
        },
        "id": "a4b1d249",
        "outputId": "76548474-c177-4e7c-d029-576bd5cff909"
      },
      "outputs": [
        {
          "output_type": "execute_result",
          "data": {
            "text/plain": [
              "set"
            ]
          },
          "metadata": {},
          "execution_count": 45
        }
      ],
      "source": [
        "x = {\"apple\" , \"banana\" , \"orange\"}\n",
        "type(x) #curly brackets then it's set type."
      ]
    },
    {
      "cell_type": "code",
      "execution_count": 46,
      "id": "8bccd7d2",
      "metadata": {
        "colab": {
          "base_uri": "https://localhost:8080/"
        },
        "id": "8bccd7d2",
        "outputId": "09afb19d-781f-42c9-83d9-f53a12eafa8b"
      },
      "outputs": [
        {
          "output_type": "execute_result",
          "data": {
            "text/plain": [
              "dict"
            ]
          },
          "metadata": {},
          "execution_count": 46
        }
      ],
      "source": [
        "x = {\"name\" : \"varshith\" , \"age\" : 20}\n",
        "type(x) #curly brackets with collen then it's a dictionary "
      ]
    },
    {
      "cell_type": "markdown",
      "id": "c06763f1",
      "metadata": {
        "id": "c06763f1"
      },
      "source": [
        "# List\n",
        "\n",
        "#### 1. allows heterogenous.\n",
        "#### 2. index start from 0.\n",
        "#### 3. mutable using index. (we can make the changes using index)\n",
        "#### 4. we can reverse the sequence by giving \".reverse command\".\n",
        "#### 5. we can sort the list type."
      ]
    },
    {
      "cell_type": "code",
      "execution_count": 47,
      "id": "799b218d",
      "metadata": {
        "colab": {
          "base_uri": "https://localhost:8080/"
        },
        "id": "799b218d",
        "outputId": "2bb7a674-9596-4c27-9965-83ba5b175241"
      },
      "outputs": [
        {
          "output_type": "execute_result",
          "data": {
            "text/plain": [
              "[32, 23, 65, 'name', (1+9j), 11.25]"
            ]
          },
          "metadata": {},
          "execution_count": 47
        }
      ],
      "source": [
        "sample_example=[32,23,65,\"name\",1+9j,11.25]\n",
        "sample_example #so list is hetrogenous because it is allowing many nuber of data types."
      ]
    },
    {
      "cell_type": "code",
      "execution_count": 48,
      "id": "193509a0",
      "metadata": {
        "colab": {
          "base_uri": "https://localhost:8080/"
        },
        "id": "193509a0",
        "outputId": "b4b6705d-27bf-4519-82e9-8e27e2ba88f8"
      },
      "outputs": [
        {
          "output_type": "execute_result",
          "data": {
            "text/plain": [
              "list"
            ]
          },
          "metadata": {},
          "execution_count": 48
        }
      ],
      "source": [
        "type(sample_example)"
      ]
    },
    {
      "cell_type": "code",
      "execution_count": 49,
      "id": "c80e05c6",
      "metadata": {
        "colab": {
          "base_uri": "https://localhost:8080/"
        },
        "id": "c80e05c6",
        "outputId": "f2876a39-57c9-4c21-b4ab-4aade0f8df47"
      },
      "outputs": [
        {
          "output_type": "execute_result",
          "data": {
            "text/plain": [
              "32"
            ]
          },
          "metadata": {},
          "execution_count": 49
        }
      ],
      "source": [
        "sample_example[0]"
      ]
    },
    {
      "cell_type": "code",
      "execution_count": 50,
      "id": "31f9794d",
      "metadata": {
        "colab": {
          "base_uri": "https://localhost:8080/"
        },
        "id": "31f9794d",
        "outputId": "9316c592-9f6c-419c-907f-38e762b9238a"
      },
      "outputs": [
        {
          "output_type": "execute_result",
          "data": {
            "text/plain": [
              "[32, 45, 65, 'name', (1+9j), 11.25]"
            ]
          },
          "metadata": {},
          "execution_count": 50
        }
      ],
      "source": [
        "\n",
        "sample_example[1] = 45\n",
        "sample_example"
      ]
    },
    {
      "cell_type": "code",
      "source": [
        "sample_example.reverse()\n",
        "sample_example"
      ],
      "metadata": {
        "colab": {
          "base_uri": "https://localhost:8080/"
        },
        "id": "rznAXBBx8wWt",
        "outputId": "51dfcc5e-ad2a-44f7-f4e1-792cc6bfaa5a"
      },
      "id": "rznAXBBx8wWt",
      "execution_count": 51,
      "outputs": [
        {
          "output_type": "execute_result",
          "data": {
            "text/plain": [
              "[11.25, (1+9j), 'name', 65, 45, 32]"
            ]
          },
          "metadata": {},
          "execution_count": 51
        }
      ]
    },
    {
      "cell_type": "markdown",
      "id": "98d17506",
      "metadata": {
        "id": "98d17506"
      },
      "source": [
        "## tuple\n",
        "#### 1. allows heterogenous.\n",
        "#### 2. index starts from 0 and retrive using index.\n",
        "#### 3. can't change the data once Assigned, so immutable.\n",
        "#### 4. can't reverse the patteren."
      ]
    },
    {
      "cell_type": "code",
      "execution_count": 52,
      "id": "02bd7c31",
      "metadata": {
        "colab": {
          "base_uri": "https://localhost:8080/"
        },
        "id": "02bd7c31",
        "outputId": "d2fbbcad-b5d2-4d78-950e-682de45fc1af"
      },
      "outputs": [
        {
          "output_type": "execute_result",
          "data": {
            "text/plain": [
              "(32, 23, 25, 'hello', (6+8j), 66.9)"
            ]
          },
          "metadata": {},
          "execution_count": 52
        }
      ],
      "source": [
        "sample_tuple=(32,23,25,\"hello\",6+8j,66.9)\n",
        "sample_tuple"
      ]
    },
    {
      "cell_type": "code",
      "execution_count": 53,
      "id": "1e451896",
      "metadata": {
        "colab": {
          "base_uri": "https://localhost:8080/"
        },
        "id": "1e451896",
        "outputId": "bb91cc28-9e11-4686-90da-c4676e7c0481"
      },
      "outputs": [
        {
          "output_type": "execute_result",
          "data": {
            "text/plain": [
              "tuple"
            ]
          },
          "metadata": {},
          "execution_count": 53
        }
      ],
      "source": [
        "type(sample_tuple)"
      ]
    },
    {
      "cell_type": "code",
      "execution_count": 54,
      "id": "2fed81fc",
      "metadata": {
        "colab": {
          "base_uri": "https://localhost:8080/"
        },
        "id": "2fed81fc",
        "outputId": "6a95d57c-09e5-447a-fd2f-8d670bf87c19"
      },
      "outputs": [
        {
          "output_type": "execute_result",
          "data": {
            "text/plain": [
              "23"
            ]
          },
          "metadata": {},
          "execution_count": 54
        }
      ],
      "source": [
        "sample_tuple[1]"
      ]
    },
    {
      "cell_type": "code",
      "execution_count": 55,
      "id": "769e0af5",
      "metadata": {
        "colab": {
          "base_uri": "https://localhost:8080/"
        },
        "id": "769e0af5",
        "outputId": "44534f3a-602a-47c2-8b36-680622939fa1"
      },
      "outputs": [
        {
          "output_type": "execute_result",
          "data": {
            "text/plain": [
              "(6+8j)"
            ]
          },
          "metadata": {},
          "execution_count": 55
        }
      ],
      "source": [
        "sample_tuple[4]"
      ]
    },
    {
      "cell_type": "code",
      "execution_count": 56,
      "id": "519e3507",
      "metadata": {
        "colab": {
          "base_uri": "https://localhost:8080/",
          "height": 165
        },
        "id": "519e3507",
        "outputId": "55e4def9-970e-40e2-ddda-1202daaf7ffc"
      },
      "outputs": [
        {
          "output_type": "error",
          "ename": "IndexError",
          "evalue": "ignored",
          "traceback": [
            "\u001b[0;31m---------------------------------------------------------------------------\u001b[0m",
            "\u001b[0;31mIndexError\u001b[0m                                Traceback (most recent call last)",
            "\u001b[0;32m<ipython-input-56-2e48f56cae59>\u001b[0m in \u001b[0;36m<cell line: 1>\u001b[0;34m()\u001b[0m\n\u001b[0;32m----> 1\u001b[0;31m \u001b[0msample_tuple\u001b[0m\u001b[0;34m[\u001b[0m\u001b[0;36m8\u001b[0m\u001b[0;34m]\u001b[0m \u001b[0;31m# we'll get error\u001b[0m\u001b[0;34m\u001b[0m\u001b[0;34m\u001b[0m\u001b[0m\n\u001b[0m",
            "\u001b[0;31mIndexError\u001b[0m: tuple index out of range"
          ]
        }
      ],
      "source": [
        "sample_tuple[8] # we'll get error"
      ]
    },
    {
      "cell_type": "code",
      "execution_count": 57,
      "id": "d2a4c9b3",
      "metadata": {
        "colab": {
          "base_uri": "https://localhost:8080/",
          "height": 182
        },
        "id": "d2a4c9b3",
        "outputId": "32e63834-d242-4f14-ba66-ea44c5c75501"
      },
      "outputs": [
        {
          "output_type": "error",
          "ename": "TypeError",
          "evalue": "ignored",
          "traceback": [
            "\u001b[0;31m---------------------------------------------------------------------------\u001b[0m",
            "\u001b[0;31mTypeError\u001b[0m                                 Traceback (most recent call last)",
            "\u001b[0;32m<ipython-input-57-2c6d4873cdad>\u001b[0m in \u001b[0;36m<cell line: 1>\u001b[0;34m()\u001b[0m\n\u001b[0;32m----> 1\u001b[0;31m \u001b[0msample_tuple\u001b[0m\u001b[0;34m[\u001b[0m\u001b[0;36m3\u001b[0m\u001b[0;34m]\u001b[0m \u001b[0;34m=\u001b[0m \u001b[0;36m12\u001b[0m\u001b[0;34m\u001b[0m\u001b[0;34m\u001b[0m\u001b[0m\n\u001b[0m\u001b[1;32m      2\u001b[0m \u001b[0msample_tuple\u001b[0m\u001b[0;34m\u001b[0m\u001b[0;34m\u001b[0m\u001b[0m\n",
            "\u001b[0;31mTypeError\u001b[0m: 'tuple' object does not support item assignment"
          ]
        }
      ],
      "source": [
        "sample_tuple[3] = 12\n",
        "sample_tuple"
      ]
    },
    {
      "cell_type": "code",
      "execution_count": 58,
      "id": "2a3f315b",
      "metadata": {
        "colab": {
          "base_uri": "https://localhost:8080/",
          "height": 182
        },
        "id": "2a3f315b",
        "outputId": "b45471ba-4652-40e0-90ff-252228f628b4"
      },
      "outputs": [
        {
          "output_type": "error",
          "ename": "AttributeError",
          "evalue": "ignored",
          "traceback": [
            "\u001b[0;31m---------------------------------------------------------------------------\u001b[0m",
            "\u001b[0;31mAttributeError\u001b[0m                            Traceback (most recent call last)",
            "\u001b[0;32m<ipython-input-58-813eb8c92c7c>\u001b[0m in \u001b[0;36m<cell line: 1>\u001b[0;34m()\u001b[0m\n\u001b[0;32m----> 1\u001b[0;31m \u001b[0msample_tuple\u001b[0m\u001b[0;34m.\u001b[0m\u001b[0mreverse\u001b[0m\u001b[0;34m(\u001b[0m\u001b[0;34m)\u001b[0m\u001b[0;34m\u001b[0m\u001b[0;34m\u001b[0m\u001b[0m\n\u001b[0m\u001b[1;32m      2\u001b[0m \u001b[0msample_tuple\u001b[0m \u001b[0;31m#here we can't reverse the sequence. so, we'll get errors.\u001b[0m\u001b[0;34m\u001b[0m\u001b[0;34m\u001b[0m\u001b[0m\n",
            "\u001b[0;31mAttributeError\u001b[0m: 'tuple' object has no attribute 'reverse'"
          ]
        }
      ],
      "source": [
        "sample_tuple.reverse()\n",
        "sample_tuple #here we can't reverse the sequence. so, we'll get errors."
      ]
    },
    {
      "cell_type": "markdown",
      "id": "2ba0215e",
      "metadata": {
        "id": "2ba0215e"
      },
      "source": [
        "# Set\n",
        "#### 1. add heterogenous.\n",
        "#### 2. doesnot allow dupilicates. (no repeted elements)\n",
        "#### 3. can't access using index.\n",
        "#### 4. immutable using index but we can add or remove a element.\n",
        "#### 5. ordered first place. prefarence from first place and follows the dictionary order. \n",
        "#### 6. we can sort the set data by converting it to list."
      ]
    },
    {
      "cell_type": "code",
      "execution_count": 59,
      "id": "befcb318",
      "metadata": {
        "colab": {
          "base_uri": "https://localhost:8080/"
        },
        "id": "befcb318",
        "outputId": "af3c4da6-bddd-4bc5-b18c-0809058c0a11"
      },
      "outputs": [
        {
          "output_type": "execute_result",
          "data": {
            "text/plain": [
              "{1,\n",
              " 12,\n",
              " 159632,\n",
              " 2,\n",
              " 2159,\n",
              " 3,\n",
              " 32156,\n",
              " 4,\n",
              " 49,\n",
              " 55,\n",
              " 62,\n",
              " 68,\n",
              " 8,\n",
              " 9,\n",
              " 9563,\n",
              " 'a',\n",
              " 'abc',\n",
              " 'b',\n",
              " 'dog',\n",
              " 'zip'}"
            ]
          },
          "metadata": {},
          "execution_count": 59
        }
      ],
      "source": [
        "sample_set = {1,2,3,55,62,12,49,68,9563,2159,32156,55,3,2,4,8,9,159632,'a', 'a','b', 'abc', 'dog','zip',9,8,2}\n",
        "sample_set"
      ]
    },
    {
      "cell_type": "code",
      "execution_count": 60,
      "id": "b43edf48",
      "metadata": {
        "colab": {
          "base_uri": "https://localhost:8080/"
        },
        "id": "b43edf48",
        "outputId": "d89170a1-fa78-4822-8f8c-73e22d861684"
      },
      "outputs": [
        {
          "output_type": "execute_result",
          "data": {
            "text/plain": [
              "set"
            ]
          },
          "metadata": {},
          "execution_count": 60
        }
      ],
      "source": [
        "type(sample_set)"
      ]
    },
    {
      "cell_type": "code",
      "execution_count": 61,
      "id": "8be79bfa",
      "metadata": {
        "colab": {
          "base_uri": "https://localhost:8080/",
          "height": 165
        },
        "id": "8be79bfa",
        "outputId": "a8ec10c6-2f34-437e-d5ba-085ed4b708e9"
      },
      "outputs": [
        {
          "output_type": "error",
          "ename": "TypeError",
          "evalue": "ignored",
          "traceback": [
            "\u001b[0;31m---------------------------------------------------------------------------\u001b[0m",
            "\u001b[0;31mTypeError\u001b[0m                                 Traceback (most recent call last)",
            "\u001b[0;32m<ipython-input-61-158707d92529>\u001b[0m in \u001b[0;36m<cell line: 1>\u001b[0;34m()\u001b[0m\n\u001b[0;32m----> 1\u001b[0;31m \u001b[0msample_set\u001b[0m\u001b[0;34m[\u001b[0m\u001b[0;36m1\u001b[0m\u001b[0;34m]\u001b[0m \u001b[0;31m#we'll get error\u001b[0m\u001b[0;34m\u001b[0m\u001b[0;34m\u001b[0m\u001b[0m\n\u001b[0m",
            "\u001b[0;31mTypeError\u001b[0m: 'set' object is not subscriptable"
          ]
        }
      ],
      "source": [
        "sample_set[1] #we'll get error"
      ]
    },
    {
      "cell_type": "code",
      "execution_count": 63,
      "id": "e7d79c79",
      "metadata": {
        "colab": {
          "base_uri": "https://localhost:8080/",
          "height": 182
        },
        "id": "e7d79c79",
        "outputId": "c220878f-b692-4330-f6c1-5d506879e961"
      },
      "outputs": [
        {
          "output_type": "error",
          "ename": "TypeError",
          "evalue": "ignored",
          "traceback": [
            "\u001b[0;31m---------------------------------------------------------------------------\u001b[0m",
            "\u001b[0;31mTypeError\u001b[0m                                 Traceback (most recent call last)",
            "\u001b[0;32m<ipython-input-63-c4ad8d09c936>\u001b[0m in \u001b[0;36m<cell line: 1>\u001b[0;34m()\u001b[0m\n\u001b[0;32m----> 1\u001b[0;31m \u001b[0msample_set\u001b[0m\u001b[0;34m[\u001b[0m\u001b[0;36m1\u001b[0m\u001b[0;34m]\u001b[0m \u001b[0;34m=\u001b[0m \u001b[0;36m122\u001b[0m\u001b[0;34m\u001b[0m\u001b[0;34m\u001b[0m\u001b[0m\n\u001b[0m\u001b[1;32m      2\u001b[0m \u001b[0msample_set\u001b[0m \u001b[0;31m#we'll get error\u001b[0m\u001b[0;34m\u001b[0m\u001b[0;34m\u001b[0m\u001b[0m\n",
            "\u001b[0;31mTypeError\u001b[0m: 'set' object does not support item assignment"
          ]
        }
      ],
      "source": [
        "sample_set[1] = 122\n",
        "sample_set #we'll get error"
      ]
    },
    {
      "cell_type": "code",
      "execution_count": 62,
      "id": "34b373a8",
      "metadata": {
        "colab": {
          "base_uri": "https://localhost:8080/"
        },
        "id": "34b373a8",
        "outputId": "05b1d013-c4ff-474b-aaa4-e53be9559037"
      },
      "outputs": [
        {
          "output_type": "execute_result",
          "data": {
            "text/plain": [
              "{1,\n",
              " 12,\n",
              " 159632,\n",
              " 2,\n",
              " 2159,\n",
              " 3,\n",
              " 32156,\n",
              " 4,\n",
              " 49,\n",
              " 55,\n",
              " 62,\n",
              " 68,\n",
              " 8,\n",
              " 9,\n",
              " 9563,\n",
              " 'abc',\n",
              " 'b',\n",
              " 'dog',\n",
              " 'zip'}"
            ]
          },
          "metadata": {},
          "execution_count": 62
        }
      ],
      "source": [
        "sample_set.remove('a')\n",
        "sample_set"
      ]
    },
    {
      "cell_type": "code",
      "execution_count": null,
      "id": "c18e213a",
      "metadata": {
        "id": "c18e213a"
      },
      "outputs": [],
      "source": [
        "sample_set.add('ykv')\n",
        "sample_set"
      ]
    },
    {
      "cell_type": "code",
      "execution_count": null,
      "id": "328fbbed",
      "metadata": {
        "id": "328fbbed"
      },
      "outputs": [],
      "source": [
        "sample_set.sort()\n",
        "sample_set"
      ]
    },
    {
      "cell_type": "code",
      "execution_count": null,
      "id": "84697291",
      "metadata": {
        "id": "84697291"
      },
      "outputs": [],
      "source": [
        "set2 = [{1,44,2,3,55,66}]\n",
        "set2.sort()\n",
        "set2"
      ]
    },
    {
      "cell_type": "markdown",
      "id": "ea50420e",
      "metadata": {
        "id": "ea50420e"
      },
      "source": [
        "# Dictionary\n",
        "##### Day - 3\n"
      ]
    },
    {
      "cell_type": "code",
      "execution_count": null,
      "id": "0f8b50cc",
      "metadata": {
        "id": "0f8b50cc"
      },
      "outputs": [],
      "source": [
        "sample_dict = {\"a\":\"alpha\" , 1:\"one\" , 2:\"name\" , 4:\"varshith\" , 1:\"coffee\" , 5:\"number\" , 6:\"movie\", 2:\"YKV\", 2:\"Mabbu\"}\n",
        "type(sample_dict) # a,1,2,4,5 are called as keys.\n",
        "                  # alpha, one, name...... are calles as values."
      ]
    },
    {
      "cell_type": "code",
      "execution_count": null,
      "id": "89cb287c",
      "metadata": {
        "id": "89cb287c"
      },
      "outputs": [],
      "source": [
        "sample_dict #unique key or values can be duplicated."
      ]
    },
    {
      "cell_type": "code",
      "execution_count": null,
      "id": "68491981",
      "metadata": {
        "id": "68491981"
      },
      "outputs": [],
      "source": [
        "sample_dict[\"a\"]"
      ]
    },
    {
      "cell_type": "code",
      "execution_count": null,
      "id": "48dab56d",
      "metadata": {
        "id": "48dab56d"
      },
      "outputs": [],
      "source": [
        "sample_dict[4] # we can retrive the value using key."
      ]
    },
    {
      "cell_type": "code",
      "execution_count": null,
      "id": "92357590",
      "metadata": {
        "id": "92357590"
      },
      "outputs": [],
      "source": [
        "sample_dict[\"name\"] # will give error, means key can't be retrived using value\n"
      ]
    },
    {
      "cell_type": "code",
      "execution_count": null,
      "id": "b1ff06ad",
      "metadata": {
        "id": "b1ff06ad"
      },
      "outputs": [],
      "source": [
        "sample_dict[5] = \"vishnu\"\n",
        "sample_dict                   # mutable using key"
      ]
    },
    {
      "cell_type": "code",
      "execution_count": null,
      "id": "6ab9d95e",
      "metadata": {
        "id": "6ab9d95e"
      },
      "outputs": [],
      "source": [
        "sample_dict[7] = \"love\"\n",
        "sample_dict            # we can add a value using key.\n"
      ]
    },
    {
      "cell_type": "code",
      "execution_count": null,
      "id": "712d72f2",
      "metadata": {
        "id": "712d72f2"
      },
      "outputs": [],
      "source": [
        "sample_dict.reverse() # dict can't be reversed."
      ]
    },
    {
      "cell_type": "code",
      "execution_count": null,
      "id": "6a8fa129",
      "metadata": {
        "id": "6a8fa129"
      },
      "outputs": [],
      "source": [
        "sample_dict.pop(6) # we can remove the value form initial data.\n",
        " \n",
        "sample_dict"
      ]
    },
    {
      "cell_type": "code",
      "execution_count": null,
      "id": "416c066a",
      "metadata": {
        "id": "416c066a"
      },
      "outputs": [],
      "source": [
        "sample_dict.pop(2)\n",
        "sample_dict"
      ]
    },
    {
      "cell_type": "code",
      "execution_count": null,
      "id": "812a5cd5",
      "metadata": {
        "id": "812a5cd5"
      },
      "outputs": [],
      "source": [
        "sample_dict.pop(7) # so while running the programe it'll consider the latest out come as the main data cell so it can't show the (2) value here.\n",
        "sample_dict"
      ]
    },
    {
      "cell_type": "markdown",
      "id": "176c69ce",
      "metadata": {
        "id": "176c69ce"
      },
      "source": [
        "## if we run the program more than one time we may get error.\n",
        "### 1. dictionary has key value pair datastructure\n",
        "### 2. key is unique and values can be duplicated \n",
        "### 3. it'll consider the latest assigned value for a particular key\n",
        "### 4. can retrieve the value using key.\n",
        "### 5. can change the value using key.\n",
        "### 6. key is mutable. \n",
        "### 7. can add and remove the values using keys."
      ]
    },
    {
      "cell_type": "code",
      "execution_count": null,
      "id": "50c02d29",
      "metadata": {
        "id": "50c02d29"
      },
      "outputs": [],
      "source": [
        "sample_dict[1] # we'll get output as coffiee insted of one because always it'll consider the last value only. (like it is reassigning the value) "
      ]
    },
    {
      "cell_type": "markdown",
      "id": "062a523c",
      "metadata": {
        "id": "062a523c"
      },
      "source": [
        "# Numpy: Package for multidimensional array. (libraries & packages)\n",
        "#### numpy is numerical python. if we want to play with numbers in python we use machine lerning library called numpy.(numerical python)"
      ]
    },
    {
      "cell_type": "markdown",
      "id": "f1d7ebf1",
      "metadata": {
        "id": "f1d7ebf1"
      },
      "source": [
        "# create an array"
      ]
    },
    {
      "cell_type": "code",
      "execution_count": null,
      "id": "a551106b",
      "metadata": {
        "id": "a551106b"
      },
      "outputs": [],
      "source": [
        "import numpy as np # we have to import some packages at begining of the code np is the frequently used notation, we can use any notation."
      ]
    },
    {
      "cell_type": "code",
      "execution_count": null,
      "id": "068f8040",
      "metadata": {
        "id": "068f8040"
      },
      "outputs": [],
      "source": [
        "arr = np.array([1,2,3,4,5,6]) #np. array creating an array.\n",
        "arr"
      ]
    },
    {
      "cell_type": "code",
      "execution_count": null,
      "id": "7af76e4d",
      "metadata": {
        "id": "7af76e4d"
      },
      "outputs": [],
      "source": [
        "list_of_numbers = np.array(([1,2,3],[4,5,6],[7,8,9])) #for multidimension we have to use double brackets.\n",
        "list_of_numbers"
      ]
    },
    {
      "cell_type": "code",
      "execution_count": null,
      "id": "9b94392d",
      "metadata": {
        "id": "9b94392d"
      },
      "outputs": [],
      "source": [
        "a = np.array([[1,2,3],[4,5,6],[7,8,9]]) # no rule for using square bracket or paranthesis.\n",
        "a "
      ]
    },
    {
      "cell_type": "code",
      "execution_count": null,
      "id": "07ccbde3",
      "metadata": {
        "id": "07ccbde3"
      },
      "outputs": [],
      "source": [
        "np.arange(6,16) #Defining the rangeof values \n",
        "                #increment by one and always it's exclude the last value in the range.\n"
      ]
    },
    {
      "cell_type": "code",
      "execution_count": null,
      "id": "732eeaa7",
      "metadata": {
        "id": "732eeaa7"
      },
      "outputs": [],
      "source": [
        "np.arange(20,40)"
      ]
    },
    {
      "cell_type": "code",
      "execution_count": null,
      "id": "c7cb01bd",
      "metadata": {
        "id": "c7cb01bd"
      },
      "outputs": [],
      "source": [
        "np.arange(5,35,6) # press shift + tab and then upper arrow mark to know what it is insted of browsing.\n",
        "                  # output is 5+6 = 11, 11 + 6 = 17... like that it'll kepp on adding 6 till 35 and finally 35 won't there in the output as last element should not be in the output"
      ]
    },
    {
      "cell_type": "code",
      "execution_count": null,
      "id": "2710e0d8",
      "metadata": {
        "id": "2710e0d8"
      },
      "outputs": [],
      "source": [
        "np.arange(3,66,6)"
      ]
    },
    {
      "cell_type": "code",
      "execution_count": null,
      "id": "8230d1f6",
      "metadata": {
        "id": "8230d1f6"
      },
      "outputs": [],
      "source": [
        "np.zeros(6)"
      ]
    },
    {
      "cell_type": "code",
      "execution_count": null,
      "id": "51240c8c",
      "metadata": {
        "id": "51240c8c"
      },
      "outputs": [],
      "source": [
        "np.zeros(8,dtype=int)"
      ]
    },
    {
      "cell_type": "code",
      "execution_count": null,
      "id": "27f96cc9",
      "metadata": {
        "id": "27f96cc9"
      },
      "outputs": [],
      "source": [
        "np.zeros((2,5))"
      ]
    },
    {
      "cell_type": "code",
      "execution_count": null,
      "id": "658da6e8",
      "metadata": {
        "id": "658da6e8"
      },
      "outputs": [],
      "source": [
        "np.zeros((2,5),dtype=int)"
      ]
    },
    {
      "cell_type": "code",
      "execution_count": null,
      "id": "3f714160",
      "metadata": {
        "id": "3f714160"
      },
      "outputs": [],
      "source": [
        "np.ones((5,3))"
      ]
    },
    {
      "cell_type": "code",
      "execution_count": null,
      "id": "25fb44ff",
      "metadata": {
        "id": "25fb44ff"
      },
      "outputs": [],
      "source": [
        "np.ones((5,3),dtype=int)"
      ]
    },
    {
      "cell_type": "code",
      "execution_count": null,
      "id": "6940e491",
      "metadata": {
        "id": "6940e491"
      },
      "outputs": [],
      "source": [
        "np.linspace(0,1,5) # 0=start, 1=stop, 5=equal parts to divide"
      ]
    },
    {
      "cell_type": "code",
      "execution_count": null,
      "id": "3e76f334",
      "metadata": {
        "id": "3e76f334"
      },
      "outputs": [],
      "source": [
        "np.linspace(0,20,12, dtype=int)"
      ]
    },
    {
      "cell_type": "code",
      "execution_count": null,
      "id": "622acbf9",
      "metadata": {
        "id": "622acbf9"
      },
      "outputs": [],
      "source": [
        "np.eye(3) #generates the identity matrix"
      ]
    },
    {
      "cell_type": "code",
      "execution_count": null,
      "id": "bc5c3e16",
      "metadata": {
        "id": "bc5c3e16"
      },
      "outputs": [],
      "source": [
        "np.eye(5,dtype=int)"
      ]
    },
    {
      "cell_type": "code",
      "source": [
        "a=np.eye(6) # generates the identity matrix of 6*6\n",
        "a"
      ],
      "metadata": {
        "id": "k_QiD6rxBeFY"
      },
      "id": "k_QiD6rxBeFY",
      "execution_count": null,
      "outputs": []
    },
    {
      "cell_type": "code",
      "execution_count": null,
      "id": "124e4e6b",
      "metadata": {
        "id": "124e4e6b"
      },
      "outputs": [],
      "source": [
        "np.random.rand(2,4) # numbers are generated randomly and we can get specified number of rows and columns. and numbers would be rangeing from 0 to 1\n",
        "                    # standared distribution."
      ]
    },
    {
      "cell_type": "code",
      "execution_count": null,
      "id": "127630e6",
      "metadata": {
        "id": "127630e6"
      },
      "outputs": [],
      "source": [
        "np.random.randn(2,4) # here we can generate negative number by adding \"n\", and this is called normal distribution."
      ]
    },
    {
      "cell_type": "code",
      "execution_count": null,
      "id": "6b80ec8d",
      "metadata": {
        "id": "6b80ec8d"
      },
      "outputs": [],
      "source": [
        "np.random.randint(0,10,15) # 15 random integers form 0 to 9"
      ]
    },
    {
      "cell_type": "code",
      "execution_count": null,
      "id": "c3c1c508",
      "metadata": {
        "id": "c3c1c508"
      },
      "outputs": [],
      "source": [
        "sample_array = np.arange(2,20)\n",
        "sample_array"
      ]
    },
    {
      "cell_type": "code",
      "execution_count": null,
      "id": "1e0addd2",
      "metadata": {
        "id": "1e0addd2"
      },
      "outputs": [],
      "source": [
        "sample_array.min() #shows the min value in the array"
      ]
    },
    {
      "cell_type": "code",
      "execution_count": null,
      "id": "826a857b",
      "metadata": {
        "id": "826a857b"
      },
      "outputs": [],
      "source": [
        "sample_array.argmin() # argmin=index of min value."
      ]
    },
    {
      "cell_type": "code",
      "execution_count": null,
      "id": "7513d89f",
      "metadata": {
        "id": "7513d89f"
      },
      "outputs": [],
      "source": [
        "rand_array=np.random.randint(0,10,5) # ranges from 0 to 9, generates 5 random numbers\n",
        "rand_array"
      ]
    },
    {
      "cell_type": "code",
      "execution_count": null,
      "id": "e61fc480",
      "metadata": {
        "id": "e61fc480"
      },
      "outputs": [],
      "source": [
        "rand_array.argmin()"
      ]
    },
    {
      "cell_type": "code",
      "execution_count": null,
      "id": "22564bfc",
      "metadata": {
        "id": "22564bfc"
      },
      "outputs": [],
      "source": [
        "rand_array.max()"
      ]
    },
    {
      "cell_type": "code",
      "execution_count": null,
      "id": "a06f44bf",
      "metadata": {
        "id": "a06f44bf"
      },
      "outputs": [],
      "source": [
        "rand_array.argmax() # if there is 2 greater random numbers then it'll consider, only 1st greater number index."
      ]
    },
    {
      "cell_type": "code",
      "execution_count": null,
      "id": "787b36dd",
      "metadata": {
        "id": "787b36dd"
      },
      "outputs": [],
      "source": [
        "sample_array.argmax() #index of greater number of sample array."
      ]
    },
    {
      "cell_type": "code",
      "execution_count": null,
      "id": "abc0b347",
      "metadata": {
        "id": "abc0b347"
      },
      "outputs": [],
      "source": [
        "sample_array.dtype"
      ]
    },
    {
      "cell_type": "code",
      "execution_count": null,
      "id": "95ecfe67",
      "metadata": {
        "id": "95ecfe67"
      },
      "outputs": [],
      "source": [
        "a=np.random.rand(2,3) #generates 2*3 random matrix ranges from 0 to 1. uniform distribution.\n",
        "a"
      ]
    },
    {
      "cell_type": "code",
      "execution_count": null,
      "id": "0db25ae3",
      "metadata": {
        "id": "0db25ae3"
      },
      "outputs": [],
      "source": [
        "a.T # transpose of matrix"
      ]
    },
    {
      "cell_type": "code",
      "execution_count": null,
      "id": "d518f154",
      "metadata": {
        "id": "d518f154"
      },
      "outputs": [],
      "source": [
        "sample_array=np.arange(10,28) # in previous sample_array these values will save.\n",
        "sample_array"
      ]
    },
    {
      "cell_type": "code",
      "execution_count": null,
      "id": "1a8e130b",
      "metadata": {
        "id": "1a8e130b"
      },
      "outputs": [],
      "source": [
        "sample_array=sample_array.reshape(6,3)  # gives 6*3 matrix \n",
        "sample_array "
      ]
    },
    {
      "cell_type": "code",
      "execution_count": null,
      "id": "242fb4c8",
      "metadata": {
        "id": "242fb4c8"
      },
      "outputs": [],
      "source": [
        "sample_array=sample_array.reshape(3,4)  \n",
        "sample_array "
      ]
    },
    {
      "cell_type": "code",
      "execution_count": null,
      "id": "393f7ccd",
      "metadata": {
        "id": "393f7ccd"
      },
      "outputs": [],
      "source": [
        "sample_array=sample_array.reshape(9,2) \n",
        "sample_array "
      ]
    },
    {
      "cell_type": "code",
      "execution_count": null,
      "id": "6fa70ab2",
      "metadata": {
        "id": "6fa70ab2"
      },
      "outputs": [],
      "source": [
        "sample_array[5]=100 # we'll get 5th row values as 100 here we are not giving index number we are giving only row number.\n",
        "sample_array"
      ]
    },
    {
      "cell_type": "code",
      "execution_count": null,
      "id": "b17c4e3f",
      "metadata": {
        "id": "b17c4e3f"
      },
      "outputs": [],
      "source": [
        "sample_array[3]=100\n",
        "sample_array"
      ]
    },
    {
      "cell_type": "code",
      "execution_count": null,
      "id": "f86d902b",
      "metadata": {
        "id": "f86d902b"
      },
      "outputs": [],
      "source": [
        "sample_array=np.arange(10,100)\n",
        "sample_array"
      ]
    },
    {
      "cell_type": "code",
      "execution_count": null,
      "id": "1912975d",
      "metadata": {
        "id": "1912975d"
      },
      "outputs": [],
      "source": [
        "sample_array[1:7] #slicing\n",
        "                  #we'll get values of index-1 to index-7"
      ]
    },
    {
      "cell_type": "code",
      "execution_count": null,
      "id": "4756b47a",
      "metadata": {
        "id": "4756b47a"
      },
      "outputs": [],
      "source": [
        "subset_sample_array=sample_array[0:7]\n",
        "subset_sample_array"
      ]
    },
    {
      "cell_type": "code",
      "execution_count": null,
      "id": "fb5ebecc",
      "metadata": {
        "id": "fb5ebecc"
      },
      "outputs": [],
      "source": [
        "sample_array[1:9] = 1001\n",
        "sample_array\n"
      ]
    },
    {
      "cell_type": "code",
      "execution_count": null,
      "id": "71878dcb",
      "metadata": {
        "id": "71878dcb"
      },
      "outputs": [],
      "source": [
        "sample_array[:] = 1001\n",
        "sample_array"
      ]
    },
    {
      "cell_type": "markdown",
      "id": "cd11554c",
      "metadata": {
        "id": "cd11554c"
      },
      "source": [
        "## Two-Dimensional array"
      ]
    },
    {
      "cell_type": "code",
      "execution_count": null,
      "id": "6cea766f",
      "metadata": {
        "id": "6cea766f"
      },
      "outputs": [],
      "source": [
        "sample_matrix=np.array([[24,13,2,15],[15,22,2,54],[56,75,84,69],[56,76,24,7]])\n",
        "sample_matrix"
      ]
    },
    {
      "cell_type": "code",
      "execution_count": null,
      "id": "b9206678",
      "metadata": {
        "id": "b9206678"
      },
      "outputs": [],
      "source": [
        "sample_matrix[2,3]  # here 2 is row index and 3 is column index"
      ]
    },
    {
      "cell_type": "markdown",
      "source": [],
      "metadata": {
        "id": "MUrgXnziDYkK"
      },
      "id": "MUrgXnziDYkK"
    },
    {
      "cell_type": "markdown",
      "source": [
        "Till here"
      ],
      "metadata": {
        "id": "ozKXXdPLDafS"
      },
      "id": "ozKXXdPLDafS"
    },
    {
      "cell_type": "code",
      "execution_count": null,
      "id": "72b62d7f",
      "metadata": {
        "id": "72b62d7f"
      },
      "outputs": [],
      "source": [
        "sample_matrix[1][2] # same as above one."
      ]
    },
    {
      "cell_type": "code",
      "execution_count": null,
      "id": "83f95e1c",
      "metadata": {
        "id": "83f95e1c"
      },
      "outputs": [],
      "source": [
        "sample_matrix[:,2] #colon means all so it'll get all the values of column with index 2."
      ]
    },
    {
      "cell_type": "code",
      "execution_count": null,
      "id": "ce44b409",
      "metadata": {
        "id": "ce44b409"
      },
      "outputs": [],
      "source": [
        "sample_matrix[1:3,2:4]"
      ]
    },
    {
      "cell_type": "code",
      "execution_count": null,
      "id": "58cc7221",
      "metadata": {
        "id": "58cc7221"
      },
      "outputs": [],
      "source": [
        "sample_matrix[1:,2:] #from row index one onwards and column index two onwards"
      ]
    },
    {
      "cell_type": "code",
      "execution_count": null,
      "id": "ac17da08",
      "metadata": {
        "id": "ac17da08"
      },
      "outputs": [],
      "source": [
        "sample_matrix[2]"
      ]
    },
    {
      "cell_type": "code",
      "execution_count": null,
      "id": "94a4a77c",
      "metadata": {
        "id": "94a4a77c"
      },
      "outputs": [],
      "source": [
        "sample_matrix[:,(3,2)]"
      ]
    },
    {
      "cell_type": "code",
      "execution_count": null,
      "id": "d06e5487",
      "metadata": {
        "id": "d06e5487"
      },
      "outputs": [],
      "source": [
        "sample_matrix[:,(2,3)]"
      ]
    },
    {
      "cell_type": "code",
      "execution_count": null,
      "id": "6afe5fb1",
      "metadata": {
        "id": "6afe5fb1"
      },
      "outputs": [],
      "source": [
        "sample_array=np.arange(1,31)\n",
        "sample_array"
      ]
    },
    {
      "cell_type": "code",
      "execution_count": null,
      "id": "ab3e283b",
      "metadata": {
        "id": "ab3e283b"
      },
      "outputs": [],
      "source": [
        "sample_array+sample_array"
      ]
    },
    {
      "cell_type": "code",
      "execution_count": null,
      "id": "d8778367",
      "metadata": {
        "id": "d8778367"
      },
      "outputs": [],
      "source": [
        "np.exp(sample_array)"
      ]
    },
    {
      "cell_type": "code",
      "execution_count": null,
      "id": "47ab2bd0",
      "metadata": {
        "id": "47ab2bd0"
      },
      "outputs": [],
      "source": [
        "np.sqrt(sample_array)"
      ]
    },
    {
      "cell_type": "code",
      "execution_count": null,
      "id": "170f43e5",
      "metadata": {
        "id": "170f43e5"
      },
      "outputs": [],
      "source": [
        "np.log(sample_array)"
      ]
    },
    {
      "cell_type": "code",
      "execution_count": null,
      "id": "0003dbc0",
      "metadata": {
        "id": "0003dbc0"
      },
      "outputs": [],
      "source": [
        "np.argmax(sample_array)"
      ]
    },
    {
      "cell_type": "code",
      "execution_count": null,
      "id": "b1accb2f",
      "metadata": {
        "id": "b1accb2f"
      },
      "outputs": [],
      "source": [
        "np.argmin(sample_array)"
      ]
    },
    {
      "cell_type": "code",
      "execution_count": null,
      "id": "5230e153",
      "metadata": {
        "id": "5230e153"
      },
      "outputs": [],
      "source": [
        "np.std(sample_array)"
      ]
    },
    {
      "cell_type": "code",
      "execution_count": null,
      "id": "d8ca10d6",
      "metadata": {
        "id": "d8ca10d6"
      },
      "outputs": [],
      "source": [
        "np.mean(sample_array)"
      ]
    },
    {
      "cell_type": "code",
      "execution_count": null,
      "id": "9e252842",
      "metadata": {
        "id": "9e252842"
      },
      "outputs": [],
      "source": [
        "np.square(sample_array)"
      ]
    },
    {
      "cell_type": "code",
      "execution_count": null,
      "id": "442f2c47",
      "metadata": {
        "id": "442f2c47"
      },
      "outputs": [],
      "source": [
        "np.var(sample_array)"
      ]
    },
    {
      "cell_type": "code",
      "execution_count": null,
      "id": "f788fbbd",
      "metadata": {
        "id": "f788fbbd"
      },
      "outputs": [],
      "source": [
        "array=np.random.randn(3,4) # normal distribution of 3*4 matrix\n",
        "array"
      ]
    },
    {
      "cell_type": "code",
      "execution_count": null,
      "id": "86c5b266",
      "metadata": {
        "id": "86c5b266"
      },
      "outputs": [],
      "source": [
        "np.round(array,3) # 3=number of digits we have to round it."
      ]
    },
    {
      "cell_type": "code",
      "execution_count": null,
      "id": "cbe4f79d",
      "metadata": {
        "id": "cbe4f79d"
      },
      "outputs": [],
      "source": [
        "sports=np.array(['golf','cricket','kabaddi','golf','cricket','fball']) # it'll show only unique values, it'll remove the duplicates.\n",
        "np.unique(sports)                                                      # arranges in the alphabatical order."
      ]
    },
    {
      "cell_type": "markdown",
      "id": "f6e02074",
      "metadata": {
        "id": "f6e02074"
      },
      "source": [
        "# Pandas"
      ]
    },
    {
      "cell_type": "code",
      "execution_count": null,
      "id": "11b5885b",
      "metadata": {
        "id": "11b5885b"
      },
      "outputs": [],
      "source": [
        "import pandas as pd"
      ]
    },
    {
      "cell_type": "code",
      "execution_count": null,
      "id": "d805705d",
      "metadata": {
        "id": "d805705d"
      },
      "outputs": [],
      "source": [
        "df = pd.read_csv(\"CarPrice_Assignment.csv\") # df = data frame and if your file is excel then type read_excel.\n",
        "                                            # car price...... is the file naame (excel or csv) while writing file name just write first 3 characters of files and press tab then it'll show the files names with that characters.\n",
        "                                            # if u didn't get any file names after clicking tab button, then you have to go for home page of jupyter notebook and upload the file form computer. then repeat the same thing.\n"
      ]
    },
    {
      "cell_type": "code",
      "execution_count": null,
      "id": "8bde189f",
      "metadata": {
        "id": "8bde189f"
      },
      "outputs": [],
      "source": [
        "df.head() # it is displaying the top 5 rows of the excel"
      ]
    },
    {
      "cell_type": "code",
      "execution_count": null,
      "id": "142f4542",
      "metadata": {
        "id": "142f4542"
      },
      "outputs": [],
      "source": [
        "df.head(10) # it'll show first 10 rows of the excel sheet"
      ]
    },
    {
      "cell_type": "code",
      "execution_count": null,
      "id": "dd7945bd",
      "metadata": {
        "id": "dd7945bd"
      },
      "outputs": [],
      "source": [
        "df.tail() #it'll display last five rows of the excel sheet."
      ]
    },
    {
      "cell_type": "code",
      "execution_count": null,
      "id": "1380cf18",
      "metadata": {
        "id": "1380cf18"
      },
      "outputs": [],
      "source": [
        "df.tail(10) #last 10 rows of excel sheet"
      ]
    },
    {
      "cell_type": "code",
      "execution_count": null,
      "id": "118f833d",
      "metadata": {
        "id": "118f833d"
      },
      "outputs": [],
      "source": [
        "df.sample() # shows random row from excel row"
      ]
    },
    {
      "cell_type": "code",
      "execution_count": null,
      "id": "9409cc98",
      "metadata": {
        "id": "9409cc98"
      },
      "outputs": [],
      "source": [
        "df.sample(5) # shows random 5 rows from excel sheet."
      ]
    },
    {
      "cell_type": "code",
      "execution_count": null,
      "id": "4bc07537",
      "metadata": {
        "id": "4bc07537"
      },
      "outputs": [],
      "source": [
        "df.shape # no of rows = observations and columns = attributions = variables.\n",
        "         # for shape no need of()"
      ]
    },
    {
      "cell_type": "code",
      "execution_count": null,
      "id": "7b75b222",
      "metadata": {
        "id": "7b75b222"
      },
      "outputs": [],
      "source": [
        "df.columns # we'll get all the column names."
      ]
    },
    {
      "cell_type": "code",
      "execution_count": null,
      "id": "bcda4a6e",
      "metadata": {
        "id": "bcda4a6e"
      },
      "outputs": [],
      "source": [
        "df.dtypes #we'll get data type of each and every attributes. if we get data type as object means it is catagorical."
      ]
    },
    {
      "cell_type": "markdown",
      "id": "8ab3d336",
      "metadata": {
        "id": "8ab3d336"
      },
      "source": [
        "###### only for shape, columns, dtypes we are not using () in pandas."
      ]
    },
    {
      "cell_type": "code",
      "execution_count": null,
      "id": "4e951d00",
      "metadata": {
        "id": "4e951d00"
      },
      "outputs": [],
      "source": [
        "df.info() # we'll be getting all the column name with dtype and how many values are there in my dataset. actually it has to be 205, so outoff 205 how many are there in each data set. "
      ]
    },
    {
      "cell_type": "code",
      "execution_count": null,
      "id": "f0087b2f",
      "metadata": {
        "id": "f0087b2f"
      },
      "outputs": [],
      "source": [
        "df.isnull.sum() #we'll get the missing value number here."
      ]
    },
    {
      "cell_type": "code",
      "execution_count": null,
      "id": "12c61f8a",
      "metadata": {
        "id": "12c61f8a"
      },
      "outputs": [],
      "source": [
        "df.describe() #we'll get all the statistical info from this."
      ]
    },
    {
      "cell_type": "code",
      "execution_count": null,
      "id": "d90682ce",
      "metadata": {
        "id": "d90682ce"
      },
      "outputs": [],
      "source": [
        "df.describe(include=\"all\") #here we'll get info for all the attributes. \n",
        "                           # for catagorical data we can't get mean, std, min all those parameters so we are getting as NAN(not a number)"
      ]
    },
    {
      "cell_type": "markdown",
      "id": "b239c194",
      "metadata": {
        "id": "b239c194"
      },
      "source": [
        "###### in the above output,  top = mode and frequency = how many times that mode value is repeating in the sheet.\n"
      ]
    },
    {
      "cell_type": "markdown",
      "id": "a76a406d",
      "metadata": {
        "id": "a76a406d"
      },
      "source": [
        "## DAY 4\n",
        "###### Pandas dataframe and indexing\n"
      ]
    },
    {
      "cell_type": "code",
      "execution_count": null,
      "id": "65ea7556",
      "metadata": {
        "id": "65ea7556"
      },
      "outputs": [],
      "source": [
        "sports1=pd.Series([1,2,3,4],index=['cricket', 'golf','chess', 'carroms']) # case sensitive, S should be capital\n",
        "sports1                                                                # it'll create a one dimensional table.\n",
        "# for creating uni dimensional table use series."
      ]
    },
    {
      "cell_type": "code",
      "execution_count": null,
      "id": "5761757d",
      "metadata": {
        "id": "5761757d"
      },
      "outputs": [],
      "source": [
        "sports1['chess'] #index of chess "
      ]
    },
    {
      "cell_type": "code",
      "execution_count": null,
      "id": "631beb44",
      "metadata": {
        "id": "631beb44"
      },
      "outputs": [],
      "source": [
        "sports2=pd.Series([11,12,13,4],index=['cricket', 'golf', 'chess', 'kabaddi'])\n",
        "sports2"
      ]
    },
    {
      "cell_type": "code",
      "execution_count": null,
      "id": "60cf9639",
      "metadata": {
        "id": "60cf9639"
      },
      "outputs": [],
      "source": [
        "sports1+sports2 # we'll get carroms and kabaddi values as nan because they are not present in the both the series.\n",
        "                # if we want to do mathematical operations then it has to be contain in the both the tables."
      ]
    },
    {
      "cell_type": "code",
      "execution_count": null,
      "id": "afade447",
      "metadata": {
        "id": "afade447"
      },
      "outputs": [],
      "source": [
        "df1 = pd.DataFrame(np.random.rand(8,5), index='A B C D E F G H'.split(),columns='Score1 Score2 Score3 Score4 Score5'.split())\n",
        "df1  # dot split because we have to write A,B,C..... and score1..... in the separate strings but we didn't do that so we are using .split."
      ]
    },
    {
      "cell_type": "code",
      "execution_count": null,
      "id": "de461239",
      "metadata": {
        "id": "de461239"
      },
      "outputs": [],
      "source": [
        "df1['Score3'] #case sensitive"
      ]
    },
    {
      "cell_type": "code",
      "execution_count": null,
      "id": "24710adc",
      "metadata": {
        "id": "24710adc"
      },
      "outputs": [],
      "source": [
        "df1[['Score2', 'Score5', 'Score1']] # order sensitive"
      ]
    },
    {
      "cell_type": "code",
      "execution_count": null,
      "id": "c44dc0ed",
      "metadata": {
        "id": "c44dc0ed"
      },
      "outputs": [],
      "source": [
        "df1['Score6'] = df1['Score2'] + df1['Score4']\n",
        "df1 #adding of the new column"
      ]
    },
    {
      "cell_type": "code",
      "execution_count": null,
      "id": "16c1d184",
      "metadata": {
        "id": "16c1d184"
      },
      "outputs": [],
      "source": [
        "df1.drop('E') #deleting a row. "
      ]
    },
    {
      "cell_type": "code",
      "execution_count": null,
      "id": "15ef1144",
      "metadata": {
        "id": "15ef1144"
      },
      "outputs": [],
      "source": [
        "df1.drop('Score1', axis = 1) #axis =1 indicates columns, to drop rows we need not to indicate row axis(0)."
      ]
    },
    {
      "cell_type": "code",
      "execution_count": null,
      "id": "2bed3d07",
      "metadata": {
        "id": "2bed3d07"
      },
      "outputs": [],
      "source": [
        "df1.drop([\"Score1\",\"Score2\"], axis=1)"
      ]
    },
    {
      "cell_type": "code",
      "execution_count": null,
      "id": "e1706605",
      "metadata": {
        "id": "e1706605"
      },
      "outputs": [],
      "source": [
        "df2={'id':[101,102,103,104,176],'name':['john','ram','kumar','venkat','vishnu'], 'profit':[20,54,69,85,37]}\n",
        "df=pd.DataFrame(df2)\n",
        "df           # creating a table in different method."
      ]
    },
    {
      "cell_type": "code",
      "execution_count": null,
      "id": "673c6c62",
      "metadata": {
        "id": "673c6c62"
      },
      "outputs": [],
      "source": [
        "df.drop('id',axis=1)"
      ]
    },
    {
      "cell_type": "code",
      "execution_count": null,
      "id": "41c1e484",
      "metadata": {
        "id": "41c1e484"
      },
      "outputs": [],
      "source": [
        "df.drop(3)"
      ]
    },
    {
      "cell_type": "code",
      "execution_count": null,
      "id": "07abcadf",
      "metadata": {
        "id": "07abcadf"
      },
      "outputs": [],
      "source": [
        "df.drop('profit',axis=1)\n"
      ]
    },
    {
      "cell_type": "code",
      "execution_count": null,
      "id": "c2fbb8ca",
      "metadata": {
        "id": "c2fbb8ca"
      },
      "outputs": [],
      "source": [
        "df[['name','profit']]"
      ]
    },
    {
      "cell_type": "markdown",
      "id": "e6cadf8c",
      "metadata": {
        "id": "e6cadf8c"
      },
      "source": [
        "#### Visualization\n",
        "#### Mathplotlib and Seaborn"
      ]
    },
    {
      "cell_type": "markdown",
      "id": "572acabe",
      "metadata": {
        "id": "572acabe"
      },
      "source": [
        "### DAY 5\n"
      ]
    },
    {
      "cell_type": "markdown",
      "id": "2e4ee272",
      "metadata": {
        "id": "2e4ee272"
      },
      "source": [
        "#### statistics"
      ]
    },
    {
      "cell_type": "markdown",
      "id": "82eac050",
      "metadata": {
        "id": "82eac050"
      },
      "source": [
        "###### collecting, organising, analysing and presenting the data is called statistics and as a data scientist we have to extract the information as much as we can from data. data is combination of nformation and noise,( noise is the data which completly distract you from the goal) .\n",
        "\n",
        "two types of statistics, 1) Descriptive and 2) Inferential\n",
        "\n",
        "in inferential statistics  from the population choose some sample from the population and conducting some experiments on the sample based upon the we would be saying about the population. \n",
        "\n",
        "conducting data in our hand and conducting an experiment on that data and getting some results that is called descriptive statistics. example: mean,mode,median,variance etc"
      ]
    },
    {
      "cell_type": "markdown",
      "id": "4b4b54e7",
      "metadata": {
        "id": "4b4b54e7"
      },
      "source": [
        "## Descriptive Statistics"
      ]
    },
    {
      "cell_type": "markdown",
      "id": "aa566739",
      "metadata": {
        "id": "aa566739"
      },
      "source": [
        "#### measures of central tendency nothing but mean, mode and meadian.  deals with shape of the data\n",
        "\n",
        "1) mean = sum of observations / no of observations. \n",
        "\n",
        "eg: what is the mean of 1,2,3,4,5? ans: 3 now,\n",
        "    what is the mean of 1,2,3,4,5,500? ans: 85.83\n",
        "    so, here 500 is an outlier, whenever an outlier is present in our data there is a huge change in the mean it's heavily impacted.\n",
        "  \n",
        "  if there is some missing values what we have to do, if that values are small we can neglect or we can replace it with mean, median or mode value in the place of missing value. if there is an outlier it's not good idea to replace with mean. or we can remove the outlier and calculate the mean and replace it.\n",
        "\n",
        "2) median = middle most value of the data\n",
        "\n",
        "what is the meadian of 5,3,2,1,4\n",
        "            for finding meadian 1st arrange the given data in accending or descending order\n",
        "            sortout data: 1,2,3,4,5 then median = 3\n",
        "            \n",
        "what is the median of 6,5,3,4,9,2\n",
        "            sortout data: 2,3,4,5,6,9 then median = (4+5)/2 [ means avg of middle two numbers]\n",
        "     if the obsevations are odd then median is (n + 1) / 2 is the median.\n",
        "                      even then median is 0.5[(n/2)th term + (n/2 + 1)th term]\n",
        "if there is an outlier in the data then median is effecting less so we can replace the missing values with median insted of mean. \n",
        "\n",
        "3) mode = highest frequency value\n",
        " eg: 5,2,3,6,5,1,4 here mode = 5, \n",
        "     5,2,3,6,5,1,4,1 here mode = 5,1\n",
        "  so for the given data there is a single mean and median but, there could be mant mode values for that.   \n",
        "\n",
        "we can find mean, median only for numarical values we can't find for categorical data\n",
        "\n",
        "but we can find the mode for both numarical and categorical data.\n",
        "\n",
        "\n",
        "finally, for missing values\n",
        "         if the data is numerical than we can replace it with mean(when there is no outlier) and with median (when outlier is there)\n",
        "          if the data is categorical replace with mode.\n",
        "          \n",
        "          \n",
        "for symmetric curve or normally distributed curve or bell curve we can say that mean = median = mode and for skewed curve or not symmetric curve mean != median != mode."
      ]
    },
    {
      "cell_type": "markdown",
      "id": "7479ef5f",
      "metadata": {
        "id": "7479ef5f"
      },
      "source": [
        "###### Measures Of Dispersion:\n",
        "\n",
        "dispersion = Spread of the data. "
      ]
    },
    {
      "cell_type": "markdown",
      "id": "1f4ba757",
      "metadata": {
        "id": "1f4ba757"
      },
      "source": [
        "##### includes Range, std deviation, Variance\n",
        "\n",
        "range = Max value - min value \n",
        "variance = how far the data is deviated from the mean. \n",
        "\n",
        "eg: x = 1,2,3,4,5 then variance is sum of [(Xi - Xbar)^2] / n. where i = 1 to n and Xbar = mean of the data. so here Xbar = 3.\n",
        "\n",
        "std deviation = sqrt of variance.\n",
        "\n",
        "sharpe curves have less variance.\n",
        "\n"
      ]
    },
    {
      "cell_type": "markdown",
      "id": "52810db9",
      "metadata": {
        "id": "52810db9"
      },
      "source": [
        "### finding of outliers:\n",
        "\n",
        " Q1, Q2, Q3... are called as Quatiles \n",
        " \n",
        " eg: 1,2,3,,4,5 from this find the second quatile means \n",
        "         Q2 = second quatile = median =3, means second quatile is 50%. Q1 is 25% called as 1st quatile. \n",
        "         \n",
        "for Q1 = consider FIRST 25% of data from the given so from 1,2,3 median will be the value of Q1.\n",
        "for Q3 = Consider LAST 25% of data from the given data so from 3,4,5 median will be the value of Q3\n",
        "\n",
        "** inter quatile range = IQR = Q3-Q1 = 4-2 = 2\n",
        "       any value  less than (Q1-1.5IQR) and greater than (Q3+1.5IQR)\n",
        "       so for the above example any value less than -1 and greater than 7 are called outliers. "
      ]
    },
    {
      "cell_type": "markdown",
      "id": "01c32bb4",
      "metadata": {
        "id": "01c32bb4"
      },
      "source": [
        "### Covariance and Corelation\n",
        "\n",
        "###### covariance = summation of [(X-Xbar)(Y-Ybar)] / n \n",
        "\n",
        "if the covariance is +ve then we can say that both are moving in the same direction. if it is -ve value then it is said to be moving in the opposite direction. from this we'll get just direction of the values.\n",
        "\n",
        "corelation = [covariance(x,y)] / [(std of x)(std of y)] \n",
        "corelation values are ranges from -1 to 1\n",
        "\n",
        "if corelation is +1 then both are highly corelated and it's positive corelation\n",
        "if corelation is -1 then both are strongly corelated but it's negative corelation. if one increases and other is decrease.\n",
        "\n",
        "** if corelation = 0.5 then it is moderatly corelated and it's postive corelation. \n",
        "\n",
        "example is there below. \n",
        "\n",
        "among the dependent and independent variables corelation should be as high as possible and among the independent variable corelation should be as low as possible.\n",
        "\n"
      ]
    },
    {
      "cell_type": "code",
      "execution_count": null,
      "id": "0500497d",
      "metadata": {
        "id": "0500497d"
      },
      "outputs": [],
      "source": [
        "arr = np.array([1,2,3,4,5])\n",
        "arr"
      ]
    },
    {
      "cell_type": "code",
      "execution_count": null,
      "id": "07a366b6",
      "metadata": {
        "id": "07a366b6"
      },
      "outputs": [],
      "source": [
        "mean_of_arr = np.mean(arr)\n",
        "mean_of_arr"
      ]
    },
    {
      "cell_type": "code",
      "execution_count": null,
      "id": "acbbb235",
      "metadata": {
        "id": "acbbb235"
      },
      "outputs": [],
      "source": [
        "median_of_arr = np.median(arr)\n",
        "median_of_arr"
      ]
    },
    {
      "cell_type": "code",
      "execution_count": null,
      "id": "dc33fc18",
      "metadata": {
        "id": "dc33fc18"
      },
      "outputs": [],
      "source": [
        "std_of_arr = np.std(arr)\n",
        "std_of_arr"
      ]
    },
    {
      "cell_type": "code",
      "execution_count": null,
      "id": "99bf69d3",
      "metadata": {
        "id": "99bf69d3"
      },
      "outputs": [],
      "source": [
        "range_of_arr = np.max(arr) - np.min(arr)\n",
        "range_of_arr"
      ]
    },
    {
      "cell_type": "code",
      "execution_count": null,
      "id": "e4e2a4cc",
      "metadata": {
        "id": "e4e2a4cc"
      },
      "outputs": [],
      "source": [
        "covari = arr - np.mean(arr)\n",
        "covari"
      ]
    },
    {
      "cell_type": "code",
      "execution_count": null,
      "id": "49ec90c6",
      "metadata": {
        "id": "49ec90c6"
      },
      "outputs": [],
      "source": [
        "arr2 = np.array([2,4,6,8,10])\n",
        "arr2\n"
      ]
    },
    {
      "cell_type": "code",
      "execution_count": null,
      "id": "53e2186f",
      "metadata": {
        "id": "53e2186f"
      },
      "outputs": [],
      "source": [
        "mean_arr2 = np.mean(arr2)\n",
        "mean_arr2"
      ]
    },
    {
      "cell_type": "code",
      "execution_count": null,
      "id": "f9a82892",
      "metadata": {
        "id": "f9a82892"
      },
      "outputs": [],
      "source": [
        "std_arr2 = np.std(arr2)\n",
        "std_arr2"
      ]
    },
    {
      "cell_type": "code",
      "execution_count": null,
      "id": "ce06dbe9",
      "metadata": {
        "id": "ce06dbe9"
      },
      "outputs": [],
      "source": [
        "covari2 = arr2 - np.mean(arr2)\n",
        "covari2"
      ]
    },
    {
      "cell_type": "code",
      "execution_count": null,
      "id": "3af8a906",
      "metadata": {
        "id": "3af8a906"
      },
      "outputs": [],
      "source": [
        "covariance = covari * covari2\n",
        "dtype = int\n",
        "covariance"
      ]
    },
    {
      "cell_type": "code",
      "execution_count": null,
      "id": "a3453528",
      "metadata": {
        "id": "a3453528"
      },
      "outputs": [],
      "source": [
        "final_covariance = [8/5 + 2/5 + 0/5 + 2/5 + 8/5] # +ve value so moving in same directions.\n",
        "final_covariance"
      ]
    },
    {
      "cell_type": "code",
      "execution_count": null,
      "id": "90e757fc",
      "metadata": {
        "id": "90e757fc"
      },
      "outputs": [],
      "source": [
        "corel_denominator = std_of_arr * std_arr2\n",
        "corel_denominator"
      ]
    },
    {
      "cell_type": "code",
      "execution_count": null,
      "id": "77f7d40e",
      "metadata": {
        "id": "77f7d40e"
      },
      "outputs": [],
      "source": [
        "corelation = final_covariance / corel_denominator\n",
        "corelation"
      ]
    },
    {
      "cell_type": "markdown",
      "id": "0a0bd8a7",
      "metadata": {
        "id": "0a0bd8a7"
      },
      "source": [
        " ##### Example"
      ]
    },
    {
      "cell_type": "code",
      "execution_count": null,
      "id": "f8f55512",
      "metadata": {
        "id": "f8f55512"
      },
      "outputs": [],
      "source": [
        "import numpy as np\n",
        "import pandas as pd\n",
        "import matplotlib.pyplot as plt\n",
        "import seaborn as sns"
      ]
    },
    {
      "cell_type": "code",
      "execution_count": null,
      "id": "d79748c7",
      "metadata": {
        "id": "d79748c7"
      },
      "outputs": [],
      "source": [
        "df = pd.read_csv(\"CardioGoodFitness-1.csv\")"
      ]
    },
    {
      "cell_type": "code",
      "execution_count": null,
      "id": "1ab67c6e",
      "metadata": {
        "id": "1ab67c6e"
      },
      "outputs": [],
      "source": [
        "df.head(10)"
      ]
    },
    {
      "cell_type": "code",
      "execution_count": null,
      "id": "e5c390d5",
      "metadata": {
        "id": "e5c390d5"
      },
      "outputs": [],
      "source": [
        "df.tail()"
      ]
    },
    {
      "cell_type": "code",
      "execution_count": null,
      "id": "162e2d9b",
      "metadata": {
        "id": "162e2d9b"
      },
      "outputs": [],
      "source": [
        "df.shape"
      ]
    },
    {
      "cell_type": "code",
      "execution_count": null,
      "id": "e2f3dd2e",
      "metadata": {
        "id": "e2f3dd2e"
      },
      "outputs": [],
      "source": [
        "df.columns"
      ]
    },
    {
      "cell_type": "code",
      "execution_count": null,
      "id": "097bfd0a",
      "metadata": {
        "id": "097bfd0a"
      },
      "outputs": [],
      "source": [
        "df.describe() # getting all statistics of the data, only for numarical columns."
      ]
    },
    {
      "cell_type": "code",
      "execution_count": null,
      "id": "011e374b",
      "metadata": {
        "id": "011e374b"
      },
      "outputs": [],
      "source": [
        "df.describe(include=\"all\")"
      ]
    },
    {
      "cell_type": "code",
      "execution_count": null,
      "id": "301acb5b",
      "metadata": {
        "id": "301acb5b"
      },
      "outputs": [],
      "source": [
        "df.info()"
      ]
    },
    {
      "cell_type": "code",
      "execution_count": null,
      "id": "8d219707",
      "metadata": {
        "id": "8d219707"
      },
      "outputs": [],
      "source": [
        "df.isnull().sum() # output = 0 menas no zeros"
      ]
    },
    {
      "cell_type": "code",
      "execution_count": null,
      "id": "cc0ff6f6",
      "metadata": {
        "id": "cc0ff6f6"
      },
      "outputs": [],
      "source": [
        "df.dtypes"
      ]
    },
    {
      "cell_type": "code",
      "execution_count": null,
      "id": "5e313f23",
      "metadata": {
        "id": "5e313f23"
      },
      "outputs": [],
      "source": [
        "df.hist() # for numerical data only"
      ]
    },
    {
      "cell_type": "code",
      "execution_count": null,
      "id": "ced9980c",
      "metadata": {
        "id": "ced9980c"
      },
      "outputs": [],
      "source": [
        "df.hist(figsize=(10,20)) # fixing the box size of the plot."
      ]
    },
    {
      "cell_type": "code",
      "execution_count": null,
      "id": "a97b14a2",
      "metadata": {
        "id": "a97b14a2"
      },
      "outputs": [],
      "source": [
        "sns.boxplot(x=\"Product\",y=\"Age\", data=df) # it should ne numerical and case sensitive\n",
        "                                          # boxplot is called as five number summary because it tells about min value, max value, 1st quatile, 2nd quatle and 3rd quatile."
      ]
    },
    {
      "cell_type": "markdown",
      "id": "edee4876",
      "metadata": {
        "id": "edee4876"
      },
      "source": [
        "#### TM 195 is most prefered and TM 798 is prefered by teenageers"
      ]
    },
    {
      "cell_type": "code",
      "execution_count": null,
      "id": "537b9e48",
      "metadata": {
        "id": "537b9e48"
      },
      "outputs": [],
      "source": [
        "pd.crosstab(df['Product'], df['Gender']) # compareing 2 catagorical data, here tab = table so tables are related to pandas."
      ]
    },
    {
      "cell_type": "code",
      "execution_count": null,
      "id": "9c09a465",
      "metadata": {
        "id": "9c09a465"
      },
      "outputs": [],
      "source": [
        "sns.countplot(x='Product', hue = \"Gender\", data = df ) #visualisation of 2 catagorical data.\n",
        "# This parameter take column name for colour encoding. "
      ]
    },
    {
      "cell_type": "code",
      "execution_count": null,
      "id": "e641cf3f",
      "metadata": {
        "id": "e641cf3f"
      },
      "outputs": [],
      "source": [
        "pd.pivot_table(df, index = ['Product', 'Gender'],      # all the coloumns are getting split according to marital status\n",
        "              columns = ['MaritalStatus'], aggfunc=len) # aggfunc = aggrigate function "
      ]
    },
    {
      "cell_type": "code",
      "execution_count": null,
      "id": "d4f99d36",
      "metadata": {
        "id": "d4f99d36"
      },
      "outputs": [],
      "source": [
        "pd.pivot_table(df, 'Income', index = ['Product', 'Gender'],\n",
        "               columns = ['MaritalStatus']) # if we didn't mention aggfunc then it'll give only mean vaues, wrt income"
      ]
    },
    {
      "cell_type": "code",
      "execution_count": null,
      "id": "3386713a",
      "metadata": {
        "id": "3386713a"
      },
      "outputs": [],
      "source": [
        "sns.pairplot(df, diag_kind = 'kde') # we have 6 numarical columns so we'll get 6*6=36 plots. thats y it called as pair plot\n",
        "                                    # if we mention kde it gives curved plots in the diagonal."
      ]
    },
    {
      "cell_type": "code",
      "execution_count": null,
      "id": "2cc9db92",
      "metadata": {
        "id": "2cc9db92"
      },
      "outputs": [],
      "source": [
        "sns.pairplot(df) # if we didn't mention kde then it'll generates all bar graphs in the diagonal."
      ]
    },
    {
      "cell_type": "code",
      "execution_count": null,
      "id": "0bf98a33",
      "metadata": {
        "id": "0bf98a33"
      },
      "outputs": [],
      "source": [
        "df.hist(by='Gender', column='Age') for histogram in the y axis always it should be the frequency."
      ]
    },
    {
      "cell_type": "code",
      "execution_count": null,
      "id": "c19032c5",
      "metadata": {
        "scrolled": true,
        "id": "c19032c5"
      },
      "outputs": [],
      "source": [
        "corr = df.corr() # for getting corelation\n",
        "corr"
      ]
    },
    {
      "cell_type": "code",
      "execution_count": null,
      "id": "c74c5925",
      "metadata": {
        "id": "c74c5925"
      },
      "outputs": [],
      "source": [
        "df['Age'].std() "
      ]
    },
    {
      "cell_type": "code",
      "execution_count": null,
      "id": "dbdd4922",
      "metadata": {
        "id": "dbdd4922"
      },
      "outputs": [],
      "source": [
        "df['Age'].mean()"
      ]
    },
    {
      "cell_type": "code",
      "execution_count": null,
      "id": "9478abf2",
      "metadata": {
        "id": "9478abf2"
      },
      "outputs": [],
      "source": [
        "df['Age'].var()"
      ]
    },
    {
      "cell_type": "code",
      "execution_count": null,
      "id": "e559f5e2",
      "metadata": {
        "id": "e559f5e2"
      },
      "outputs": [],
      "source": [
        "df.hist(by='Gender', column='Income')"
      ]
    },
    {
      "cell_type": "code",
      "execution_count": null,
      "id": "30bb51f0",
      "metadata": {
        "id": "30bb51f0"
      },
      "outputs": [],
      "source": [
        "df.hist(by='Gender', column='Miles')"
      ]
    },
    {
      "cell_type": "code",
      "execution_count": null,
      "id": "22b1cae7",
      "metadata": {
        "id": "22b1cae7"
      },
      "outputs": [],
      "source": [
        "df.hist(by='Product', column='Miles')"
      ]
    },
    {
      "cell_type": "code",
      "execution_count": null,
      "id": "e7232311",
      "metadata": {
        "id": "e7232311"
      },
      "outputs": [],
      "source": [
        "sns.heatmap(corr,annot = True)"
      ]
    },
    {
      "cell_type": "markdown",
      "id": "e75c32ae",
      "metadata": {
        "id": "e75c32ae"
      },
      "source": [
        "### Inferential Statistics"
      ]
    },
    {
      "cell_type": "markdown",
      "id": "f3dffe80",
      "metadata": {
        "id": "f3dffe80"
      },
      "source": [
        "deals with sampling the data and we have to inference the data.\n",
        "\n",
        "for notes refer to the LMS of Henry Harvin.\n",
        "\n",
        "and next is Hypothesis & Tests.\n",
        "null hypothesis = always there should be euql to sign \n",
        "alternate hypothesis doesn't contain any equality sign."
      ]
    },
    {
      "cell_type": "markdown",
      "id": "fadbc70d",
      "metadata": {
        "id": "fadbc70d"
      },
      "source": [
        "https://www.analyticsvidhya.com/blog/2020/06/statistics-analytics-hypothesis-testing-z-test-t-test/"
      ]
    },
    {
      "cell_type": "markdown",
      "id": "b6e99291",
      "metadata": {
        "id": "b6e99291"
      },
      "source": [
        "### z  tests are a statistical way of testing a hypothesis when either:\n",
        "\n",
        "   1. We know the population variance, or\n",
        "   2. We do not know the population variance but our sample size is large n ≥         30\n",
        "\n",
        "* If we have a sample size of less than 30 and do not know the population variance, then we must use a t-test."
      ]
    },
    {
      "cell_type": "markdown",
      "id": "701df324",
      "metadata": {
        "id": "701df324"
      },
      "source": [
        "### Z-Score =  ( Xbar -  mu) / ( sigma / sqrt of n)\n",
        "     Xbar = mean of the sample consider\n",
        "     mu = mean of the total population\n",
        "     sigma = std deviation of population\n",
        "     sqrt of n = sample size.\n",
        "* we have to decide about the significant level(alpha) or confidence level. \n",
        "  eg: confidence level = 95% then significance level = 5%.\n",
        "  \n",
        "after getting Z score then find out the value of P value (probability value) for that Z value from the external sources. \n",
        "\n",
        "if that p-value is less than the alpha or significant value then we have to reject the null hypothesis.\n",
        "\n",
        "* and find the critical value for the given significant value which are standared values, if the Z score is higher that the critical value then it is said to be rejected region so we have to reject the null hypothesis.\n",
        "\n"
      ]
    },
    {
      "cell_type": "markdown",
      "id": "1d36fed1",
      "metadata": {
        "id": "1d36fed1"
      },
      "source": [
        "##### Z score for  two samples\n",
        "\n",
        "     * Z score = [ (X1bar - X2bar) - (mu1 - mu2) ] / [sqrt of ((sigma1 ^ 2 / n1) + (sigma2 ^ 2 / n2))\n",
        "     \n",
        "     "
      ]
    },
    {
      "cell_type": "markdown",
      "id": "9f4e2c43",
      "metadata": {
        "id": "9f4e2c43"
      },
      "source": [
        "#### T score  = ( Xbar - mu ) / ( s / sqrt of n ) \n",
        "      s = sample standard deviation. that's the difference between Z score and T score.\n",
        "      \n",
        "* P-value is greater than alpha thus we fail to reject the null hypothesis so we have to accept the null hypothesis."
      ]
    },
    {
      "cell_type": "markdown",
      "id": "55e8411c",
      "metadata": {
        "id": "55e8411c"
      },
      "source": [
        "##### Two-Sample t-Test = [ (X1bar - X2bar) - (mu1 - mu2) ] / [sqrt of ((S1 ^ 2 / n1) + ( S2 ^ 2 / n2))"
      ]
    },
    {
      "cell_type": "code",
      "execution_count": null,
      "id": "a9850d18",
      "metadata": {
        "id": "a9850d18"
      },
      "outputs": [],
      "source": []
    }
  ],
  "metadata": {
    "kernelspec": {
      "display_name": "Python 3 (ipykernel)",
      "language": "python",
      "name": "python3"
    },
    "language_info": {
      "codemirror_mode": {
        "name": "ipython",
        "version": 3
      },
      "file_extension": ".py",
      "mimetype": "text/x-python",
      "name": "python",
      "nbconvert_exporter": "python",
      "pygments_lexer": "ipython3",
      "version": "3.9.7"
    },
    "colab": {
      "provenance": []
    }
  },
  "nbformat": 4,
  "nbformat_minor": 5
}